{
 "cells": [
  {
   "cell_type": "markdown",
   "metadata": {},
   "source": [
    "# HPO Graph"
   ]
  },
  {
   "cell_type": "code",
   "execution_count": 27,
   "metadata": {},
   "outputs": [],
   "source": [
    "import os\n",
    "import sys\n",
    "module_path = os.path.abspath(os.path.join('../..'))\n",
    "if module_path not in sys.path:\n",
    "    sys.path.append(module_path)\n",
    "import configparser\n",
    "import pandas as pd\n",
    "from util.graphdb_base import GraphDBBase"
   ]
  },
  {
   "cell_type": "markdown",
   "metadata": {},
   "source": [
    "## Import Configuration File"
   ]
  },
  {
   "cell_type": "code",
   "execution_count": 28,
   "metadata": {},
   "outputs": [
    {
     "name": "stdout",
     "output_type": "stream",
     "text": [
      "URI: bolt://localhost:7687\n",
      "User: neo4j\n",
      "Password: password\n",
      "Encrypted: False\n",
      "Database: neo4jdoctor\n"
     ]
    }
   ],
   "source": [
    "config_file = \"../../config.ini\"\n",
    "config = configparser.ConfigParser()\n",
    "config.read(config_file)\n",
    "neo4j_config = config[\"neo4j\"]\n",
    "uri = neo4j_config.get(\"uri\")\n",
    "user = neo4j_config.get(\"user\")\n",
    "password = neo4j_config.get(\"password\")\n",
    "encrypted = neo4j_config.getboolean(\"encrypted\")\n",
    "database = neo4j_config.get(\"database\")\n",
    "print(f\"URI: {uri}\")\n",
    "print(f\"User: {user}\")\n",
    "print(f\"Password: {password}\")\n",
    "print(f\"Encrypted: {encrypted}\")\n",
    "print(f\"Database: {database}\")"
   ]
  },
  {
   "cell_type": "markdown",
   "metadata": {},
   "source": [
    "## Read Graph Data"
   ]
  },
  {
   "cell_type": "code",
   "execution_count": 29,
   "metadata": {},
   "outputs": [],
   "source": [
    "def show_result_in_df(query, gd, pd):\n",
    "    with gd._driver.session(database=gd._database) as session:\n",
    "        r = session.run(query)\n",
    "        return pd.DataFrame.from_dict(r.data())"
   ]
  },
  {
   "cell_type": "code",
   "execution_count": 30,
   "metadata": {},
   "outputs": [
    {
     "name": "stdout",
     "output_type": "stream",
     "text": [
      "0\n"
     ]
    }
   ],
   "source": [
    "gd = GraphDBBase()\n",
    "gd._database = database\n",
    "query = \"MATCH (n) RETURN n LIMIT 10\"\n",
    "with gd._driver.session(database=gd._database) as session:\n",
    "    r = session.run(query)\n",
    "    if len(r.data()) == 0:\n",
    "        raise RuntimeError(\"No data in the database\")\n",
    "    else:\n",
    "        print(len(r.data()))"
   ]
  },
  {
   "cell_type": "code",
   "execution_count": 31,
   "metadata": {},
   "outputs": [],
   "source": [
    "query = \"\"\"\n",
    "MATCH (phe:Hpo)\n",
    "WHERE phe.label = \"Growth delay\"\n",
    "OR phe.label = \"Large knee\"\n",
    "OR phe.label = \"Sensorineural hearing impairment\"\n",
    "OR phe.label = \"Pruritus\"\n",
    "OR phe.label = \"Type I diabetes mellitus\"\n",
    "WITH phe\n",
    "MATCH path=(dis:Disease)-[:HAS_PHENOTYPIC_FEATURE]->(phe)\n",
    "UNWIND dis as nodes\n",
    "RETURN dis.id as disease_id, \n",
    "dis.label as disease_name,\n",
    "collect(phe.label) as features,\n",
    "count(nodes) as num_of_features\n",
    "ORDER BY num_of_features DESC, disease_name\n",
    "LIMIT 5\n",
    "\"\"\"\n",
    "res = show_result_in_df(query, gd, pd)\n",
    "res"
   ]
  },
  {
   "cell_type": "code",
   "execution_count": null,
   "metadata": {},
   "outputs": [],
   "source": []
  }
 ],
 "metadata": {
  "kernelspec": {
   "display_name": "venv",
   "language": "python",
   "name": "python3"
  },
  "language_info": {
   "codemirror_mode": {
    "name": "ipython",
    "version": 3
   },
   "file_extension": ".py",
   "mimetype": "text/x-python",
   "name": "python",
   "nbconvert_exporter": "python",
   "pygments_lexer": "ipython3",
   "version": "3.10.0"
  }
 },
 "nbformat": 4,
 "nbformat_minor": 2
}
